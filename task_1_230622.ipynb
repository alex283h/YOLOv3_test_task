{
  "nbformat": 4,
  "nbformat_minor": 0,
  "metadata": {
    "colab": {
      "name": "task_1_230622.ipynb",
      "private_outputs": true,
      "provenance": [],
      "collapsed_sections": [],
      "authorship_tag": "ABX9TyMVmf699FHMuyvqidd+P+5l",
      "include_colab_link": true
    },
    "kernelspec": {
      "name": "python3",
      "display_name": "Python 3"
    },
    "language_info": {
      "name": "python"
    }
  },
  "cells": [
    {
      "cell_type": "markdown",
      "metadata": {
        "id": "view-in-github",
        "colab_type": "text"
      },
      "source": [
        "<a href=\"https://colab.research.google.com/github/alex283h/YOLOv3_test_task/blob/master/task_1_230622.ipynb\" target=\"_parent\"><img src=\"https://colab.research.google.com/assets/colab-badge.svg\" alt=\"Open In Colab\"/></a>"
      ]
    },
    {
      "cell_type": "code",
      "metadata": {
        "id": "KQrsFrOzx-kr"
      },
      "source": [
        "from google.colab import drive\n",
        "drive.mount('/content/drive')"
      ],
      "execution_count": null,
      "outputs": []
    },
    {
      "cell_type": "markdown",
      "source": [
        "Устанавливаем пакет для загрузки рыночных данных:"
      ],
      "metadata": {
        "id": "-Qw9DnQaRN28"
      }
    },
    {
      "cell_type": "code",
      "source": [
        "!pip3 install yfinance "
      ],
      "metadata": {
        "id": "tvaCZqSqSh5A"
      },
      "execution_count": null,
      "outputs": []
    },
    {
      "cell_type": "markdown",
      "source": [
        "Также установим пакет для расчета различных индикаторов рынка:"
      ],
      "metadata": {
        "id": "Gab-pfhNRmPq"
      }
    },
    {
      "cell_type": "code",
      "source": [
        "!pip3 install ta"
      ],
      "metadata": {
        "id": "yscMDzx2Zf7A"
      },
      "execution_count": null,
      "outputs": []
    },
    {
      "cell_type": "markdown",
      "source": [
        "Все индикаторы, которые могут быть рассчитаны с помощью данного пакета можно посмотреть по ссылке:\n",
        "\n",
        "https://technical-analysis-library-in-python.readthedocs.io/en/latest/ta.html#volume-indicators\n",
        "\n",
        "Например, в статье на которую мы ориентируемся индикатор ATR был реализован собственноручно. Насколько правильно неизвестно, кода-то нет. Здесь же все выверено и есть много дополнительных полезных \"штук\" приработе с которовками.\n",
        "Поэтому в качестве первого нашего улучшения будем пользоватсья данным пакетом.\n",
        "Удобьно и быстро.\n",
        "\n",
        "Загрузим все необходимые библиотеки для последующей работы:"
      ],
      "metadata": {
        "id": "JTijPGj0iq4O"
      }
    },
    {
      "cell_type": "code",
      "source": [
        "import pandas as pd # для работы с дата-фреймами\n",
        "import numpy as np # для работы с массивами и матрицами\n",
        "from matplotlib import pyplot as plt # для работы с графиками\n",
        "import datetime # для работы с временем и датами\n",
        "import yfinance as yf # для загрузки котировок\n",
        "import seaborn as sns # для работы с графиками\n",
        "from sklearn.cluster import KMeans # для кластеризации\n",
        "import ta # индикаторы технического анализа\n",
        "from sklearn.preprocessing import StandardScaler,MinMaxScaler # масштабирование признаков\n",
        "from yellowbrick.cluster import KElbowVisualizer # удобная визуализация кластерной модели с различным числом кластеров\n",
        "import plotly.graph_objects as go # визуализация рыночных показателей и индикаторов\n",
        "from sklearn.decomposition import PCA # наиболее популярный метод сокращения размерности для визуализации\n",
        "from sklearn.manifold import TSNE # более продвинутый метод сокращения размерности для визуализации"
      ],
      "metadata": {
        "id": "n08F4tFeSMLV"
      },
      "execution_count": null,
      "outputs": []
    },
    {
      "cell_type": "markdown",
      "source": [
        "Обределим даты начала и окончания загрузки показателя SPX (еще S&P 500 или GSPC; именно он выбран в статье за основу).\n",
        "Загрузим днные за примерно 32 года по дням:"
      ],
      "metadata": {
        "id": "oFZ_P5bmTEn_"
      }
    },
    {
      "cell_type": "code",
      "source": [
        "end_time = datetime.date.today()\n",
        "start_time = end_time - datetime.timedelta(11850)"
      ],
      "metadata": {
        "id": "G9tRvItlSmXe"
      },
      "execution_count": null,
      "outputs": []
    },
    {
      "cell_type": "code",
      "source": [
        "SPX = yf.download('^GSPC',start = start_time, end = end_time)\n",
        "SPX"
      ],
      "metadata": {
        "id": "y3NqCykyTQVl"
      },
      "execution_count": null,
      "outputs": []
    },
    {
      "cell_type": "markdown",
      "source": [
        "Данные загружены, все хорошо. Теперь дополнительно, как и авторы статьи загрузим вспомогательный индикатор-показатель рынка VIX (за тоже время):"
      ],
      "metadata": {
        "id": "KvD509dhWMhm"
      }
    },
    {
      "cell_type": "code",
      "source": [
        "VIX = yf.download('^VIX',start = start_time, end = end_time).Close\n",
        "VIX"
      ],
      "metadata": {
        "id": "cbRbUsUQV9yo"
      },
      "execution_count": null,
      "outputs": []
    },
    {
      "cell_type": "markdown",
      "source": [
        "Визуализируем этот показатель:"
      ],
      "metadata": {
        "id": "Ys251RakT8Vq"
      }
    },
    {
      "cell_type": "code",
      "source": [
        "fig = go.Figure(data=go.Scatter(x=VIX.index,y=VIX, mode='lines'))\n",
        "fig.update_layout(autosize=False,width=800,height=500)\n",
        "fig.show()"
      ],
      "metadata": {
        "id": "oMpijGRWkkxQ"
      },
      "execution_count": null,
      "outputs": []
    },
    {
      "cell_type": "markdown",
      "source": [
        "VIX — это индикатор волатильности американской экономики. Он показывает, будет ли индекс S&P 500 волатилен в будущем. Когда VIX растет, это значит, что инвесторы ожидают сильных колебаний фондового рынка и даже наступления кризиса: именно к таким последствиям может привести рост волатильности S&P 500. Хорошо то, что данный показатель не имеет явно выраженного тренда и является стационарным относительно некоего среднего значения. То есть его диапазон возможных значений конечен и псевдо-фиксирован.\n",
        "\n",
        "Далее вычислим показатель ATR за период равный 14 дням. Как и у авторов статьи:"
      ],
      "metadata": {
        "id": "2CpblBnAWo0q"
      }
    },
    {
      "cell_type": "code",
      "source": [
        "ATR = ta.volatility.AverageTrueRange(SPX.High,SPX.Low,SPX.Close,window = 14, fillna = True).average_true_range()/SPX.Close\n",
        "ATR"
      ],
      "metadata": {
        "id": "bml51ZmoW27u"
      },
      "execution_count": null,
      "outputs": []
    },
    {
      "cell_type": "markdown",
      "source": [
        "Визуализируем показатель:"
      ],
      "metadata": {
        "id": "obTh9heEUj71"
      }
    },
    {
      "cell_type": "code",
      "source": [
        "fig = go.Figure(data=go.Scatter(x=ATR.index,y=ATR, mode='lines'))\n",
        "fig.update_layout(autosize=False,width=800,height=500)\n",
        "fig.show()"
      ],
      "metadata": {
        "id": "t-yUmvfglyw4"
      },
      "execution_count": null,
      "outputs": []
    },
    {
      "cell_type": "markdown",
      "source": [
        "В целом визуально (возможно и по статистикам) данный показатель похож на предыдущий.\n",
        "\n",
        "Вычислим (как и у авторов статьи) следующий показатель - Daily retutns:"
      ],
      "metadata": {
        "id": "VSqypjALUo7V"
      }
    },
    {
      "cell_type": "code",
      "source": [
        "DR = ta.others.DailyReturnIndicator(SPX.Close, fillna = True).daily_return()\n",
        "DR[0] = DR.mean() # здесь важный момент! чтобы самое первое значение не было слишком большим и отличающимся от остальных, заменим его на среднее (специфика вычислений показателя)\n",
        "DR"
      ],
      "metadata": {
        "id": "m9BA-3ZmYAXb"
      },
      "execution_count": null,
      "outputs": []
    },
    {
      "cell_type": "markdown",
      "source": [
        "Визуализируем показатель:"
      ],
      "metadata": {
        "id": "RfN6hUoHUno8"
      }
    },
    {
      "cell_type": "code",
      "source": [
        "fig = go.Figure(data=go.Scatter(x=DR.index,y=DR, mode='lines'))\n",
        "fig.update_layout(autosize=False,width=800,height=500)\n",
        "fig.show()"
      ],
      "metadata": {
        "id": "324R6v_ul6fU"
      },
      "execution_count": null,
      "outputs": []
    },
    {
      "cell_type": "markdown",
      "source": [
        "Выглядит отлично. Как минимум стационарно по среднему (среднее около 0). И нестационарно по дисперсии. Для кластеризации что надо!\n",
        "\n",
        "Далее авторы также применяют показатель Return Volume. Его нет в пакетной врсии, поэтому просто воспользуемся готовым авторским кодом:"
      ],
      "metadata": {
        "id": "-KFoeC0pfYYP"
      }
    },
    {
      "cell_type": "code",
      "source": [
        "RV = SPX.Volume/SPX.Volume.rolling(40).mean()\n",
        "RV = RV.fillna(0)\n",
        "RV"
      ],
      "metadata": {
        "id": "gdpuVGEzdGD4"
      },
      "execution_count": null,
      "outputs": []
    },
    {
      "cell_type": "markdown",
      "source": [
        "И визуализация:"
      ],
      "metadata": {
        "id": "T1ImMMlDVsGh"
      }
    },
    {
      "cell_type": "code",
      "source": [
        "fig = go.Figure(data=go.Scatter(x=RV.index,y=RV, mode='lines'))\n",
        "fig.update_layout(autosize=False,width=800,height=500)\n",
        "fig.show()"
      ],
      "metadata": {
        "id": "ooAsKDk8mHK5"
      },
      "execution_count": null,
      "outputs": []
    },
    {
      "cell_type": "markdown",
      "source": [
        "Вполне годится. Стационарность относительно среднего есть.\n",
        "\n",
        "На этих 4 показателях авторы статьи останавливаются и проделывают кластеризацию. Мы же в качестве второго улучшения добавим на 1 показатель больше. Метод кластеризации KMeans может неплохо справляться где-то с 8-10 показателями (индикаторами). Далее начинается проблема \"прколятия размерности\".\n",
        "\n",
        "Выберем в качестве такого показателя Stochastic RSI. Важен не столько смысл данного показателя, как тот факт, что показатель стауионарен относительно среднего и ограничен в диапазоне значений от 0 до 1.\n",
        "\n",
        "Если Вы работаете с рынками и знаете какие показатели лучше применить для данной задачи по смыслу (кластеризация рыночных моментов) и эти показатели стационарны относительно среднего - можно смело эксперементировать!\n",
        "\n",
        "В рамках кластеризации плохи те показатели, что имеют тренды как и сам рынок. Такие данные будут очень плохо кластеризуемы.\n"
      ],
      "metadata": {
        "id": "ejHTHSGPVu39"
      }
    },
    {
      "cell_type": "code",
      "source": [
        "RSI = ta.momentum.StochRSIIndicator(SPX.Close, fillna = True).stochrsi()\n",
        "RSI"
      ],
      "metadata": {
        "id": "Dm5E_Vh7f2p1"
      },
      "execution_count": null,
      "outputs": []
    },
    {
      "cell_type": "markdown",
      "source": [
        "Визуализация:"
      ],
      "metadata": {
        "id": "RPHMxIBhXiSq"
      }
    },
    {
      "cell_type": "code",
      "source": [
        "fig = go.Figure(data=go.Scatter(x=RSI.index,y=RSI, mode='lines'))\n",
        "fig.update_layout(autosize=False,width=800,height=500)\n",
        "fig.show()"
      ],
      "metadata": {
        "id": "mkZ6Wo3_mK-w"
      },
      "execution_count": null,
      "outputs": []
    },
    {
      "cell_type": "markdown",
      "source": [
        "Отлично! Теперь соберем все вычисленные показатели в единый дата-фрейм X для последующей кластеризации:"
      ],
      "metadata": {
        "id": "lmYxj_-CYCUP"
      }
    },
    {
      "cell_type": "code",
      "source": [
        "X = pd.concat([DR,ATR,VIX,RV,RSI], axis=1)\n",
        "X.columns = ['DR','ATR','VIX','RV','RSI']\n",
        "X"
      ],
      "metadata": {
        "id": "foXJ2USTgrWb"
      },
      "execution_count": null,
      "outputs": []
    },
    {
      "cell_type": "markdown",
      "source": [
        "Все хорошо. Но бывают ситуации, когда данные основного показателя (в нашем случае SPX) приходят раньше, чем VIX и мы можем получить пропущенные значения в последней строке. Сейчас все хорошо. Но для корректировки таких случаев добавим следующий код:"
      ],
      "metadata": {
        "id": "0Nfd-ZKgiJeT"
      }
    },
    {
      "cell_type": "code",
      "source": [
        "X = X.dropna()\n",
        "X"
      ],
      "metadata": {
        "id": "0hTSWOTDg6Q4"
      },
      "execution_count": null,
      "outputs": []
    },
    {
      "cell_type": "markdown",
      "source": [
        "Следующим важным улучшением (чего нет у авторов!) является масштабирование всех признаков. Метод K-Means чувствителен к диапазону индикаторов, так как основывается на вычислениях расстояний между векторами. Все индикаторы должны быть приведены к единому диапазону, иначе какой-то один будет \"доминантным\", а остальные могут не оказывать почти никакого влияния. Работа с ненормированными (немасштабированными) данными частая ошибка при кластеризации! Вот подробные объяснения почему: https://medium.com/analytics-vidhya/why-is-scaling-required-in-knn-and-k-means-8129e4d88ed7\n",
        "\n",
        "Произведем масштабирование всех прихнаков в интервале 0-1:"
      ],
      "metadata": {
        "id": "F9wt4ohkYok4"
      }
    },
    {
      "cell_type": "code",
      "source": [
        "t_scaler = MinMaxScaler().fit(X)\n",
        "t_X = pd.DataFrame(t_scaler.transform(X))\n",
        "t_X.columns = X.columns\n",
        "t_X"
      ],
      "metadata": {
        "id": "8QIg9gRCiZGe"
      },
      "execution_count": null,
      "outputs": []
    },
    {
      "cell_type": "markdown",
      "source": [
        "Теперь все хорошо. Но перед тем, как начинать какую-либо кластеризацию, всегда стоит посмотреть на распределение показателей в 2D проекции. Для этого существует множество методов: PCA, tSNE, UMAP... Мы воспользуемся наиболее простым и популярным PCA и визуализируем первые 2 компоненты в 2D плоскости. Если мы увидем какие-то отдельные группы точек - то хорошо. Если нет - то вообще кластеризация, как таковая, и её смысл может быть весьма спорным... Сделаем это:"
      ],
      "metadata": {
        "id": "ek19H8zOZeSE"
      }
    },
    {
      "cell_type": "code",
      "source": [
        "pca = PCA(n_components = 2)\n",
        "pca_data = pd.DataFrame(pca.fit_transform(t_X),columns=['PC1','PC2']) \n",
        "sns.scatterplot(x=\"PC1\",y=\"PC2\",data=pca_data)\n",
        "plt.show()"
      ],
      "metadata": {
        "id": "zWGu6D5jkVKr"
      },
      "execution_count": null,
      "outputs": []
    },
    {
      "cell_type": "markdown",
      "source": [
        "Честно говоря, мало обещающий график. Каких-либо групп точек мы не видем. Как разделить или кластеризовать такие данные? Однозначный способ не прослеживается.\n",
        "..\n",
        "Бывает так, что PCA в двухмерном пространстве действительно не отображет сложные многомерные кластеры. Попробуем применить более продвинутый метод - tSNE. Он также основан на вычислении расстояний, как и метод кластеризации K-Means. Но при этом учитывает многомерные статистики. Метод требует куда как больше времени на вычисления (чем больше значение n_iter - тем дольше и точнее будут кластеры; можно экспериментировать!)."
      ],
      "metadata": {
        "id": "dO2Jy8Y2aghm"
      }
    },
    {
      "cell_type": "code",
      "source": [
        "tsne = TSNE(n_components=2, verbose=1, random_state=0, perplexity = 15, n_iter = 1500)\n",
        "tsne_data = pd.DataFrame(tsne.fit_transform(t_X),columns=['PC1','PC2']) \n",
        "sns.scatterplot(x=\"PC1\",y=\"PC2\",data=tsne_data)\n",
        "plt.show()"
      ],
      "metadata": {
        "id": "4nEFw3jYbeup"
      },
      "execution_count": null,
      "outputs": []
    },
    {
      "cell_type": "markdown",
      "source": [
        "Какие-то группы точек уже можно различать. Но и тут нет красивой однозначности. Поэтому, попробуем сделать кластеризацию не только исходных данных с 5-ю показателями, но и кластеризацию данных, полученных после метода tSNE. ВОзможно будет лучше."
      ],
      "metadata": {
        "id": "n8Yb2aa5drEE"
      }
    },
    {
      "cell_type": "markdown",
      "source": [
        "В следующих шагах мы выполним K-Means кластеризацию исходных данных и найдем \"оптимальное\" число кластеров. Авторы применяют в статье лишь один метод - метод \"локтя\" или Elbow метод. Но есть и другие метрики для првоерки оптимального числа кластеров. Наиболее популярные три:\n",
        "\n",
        "- Elbow;\n",
        "- Calinski Harabasz;\n",
        "- Silhouette.\n",
        "\n",
        "Вот и посмотрим их все. Сколько кластеров оптимально получится используя ту или иную метрику. Это будет нашим еще одним улучшением.\n",
        "\n",
        "**1. Кластеризация по исходным данным.**"
      ],
      "metadata": {
        "id": "rVihoEMPaY98"
      }
    },
    {
      "cell_type": "code",
      "source": [
        "# Elbow метод для K-Means\n",
        "model = KMeans()\n",
        "# k - диапазон возможных кластеров\n",
        "visualizer = KElbowVisualizer(model, k=(2,16), timings= True)\n",
        "visualizer.fit(t_X)\n",
        "# визуализация\n",
        "plt.show()\n",
        "visualizer.show()"
      ],
      "metadata": {
        "id": "lw9s22eSjIF5"
      },
      "execution_count": null,
      "outputs": []
    },
    {
      "cell_type": "markdown",
      "source": [
        "Вот с помощью данного метода получилось 5 кластеров - лучший выбор.\n",
        "Визуализируем эти кластеры с помощью 2D проекции на базе tSNE (он получше все сделал, как мы видели ранее):"
      ],
      "metadata": {
        "id": "mlFjJF0Fe_3e"
      }
    },
    {
      "cell_type": "code",
      "source": [
        "m1 = KMeans(n_clusters=5).fit(t_X)\n",
        "tsne_data['m1'] = pd.Categorical(m1.labels_) # добавим метки кластеров в данные tsne\n",
        "sns.scatterplot(x=\"PC1\",y=\"PC2\",hue=\"m1\",data=tsne_data)\n",
        "plt.show()"
      ],
      "metadata": {
        "id": "qaHAKo5notFl"
      },
      "execution_count": null,
      "outputs": []
    },
    {
      "cell_type": "markdown",
      "source": [
        "Аак-то вот так распределились облака точек. Проверим другие два метода:"
      ],
      "metadata": {
        "id": "7FQHLl0efbwI"
      }
    },
    {
      "cell_type": "code",
      "source": [
        "# Calinski Harabasz метод\n",
        "from yellowbrick.cluster import KElbowVisualizer\n",
        "model = KMeans()\n",
        "visualizer = KElbowVisualizer(model, k=(2,16),metric='calinski_harabasz', timings= True)\n",
        "visualizer.fit(t_X)\n",
        "visualizer.show()"
      ],
      "metadata": {
        "id": "Rx_ffy9cj2JU"
      },
      "execution_count": null,
      "outputs": []
    },
    {
      "cell_type": "markdown",
      "source": [
        "Здесь метод \"посчитал\", что 2 кластера - лучший выбор."
      ],
      "metadata": {
        "id": "k-yd2mLefvLJ"
      }
    },
    {
      "cell_type": "code",
      "source": [
        "m2 = KMeans(n_clusters=2).fit(t_X)\n",
        "tsne_data['m2'] = pd.Categorical(m2.labels_) # добавим метки кластеров в данные tsne\n",
        "sns.scatterplot(x=\"PC1\",y=\"PC2\",hue=\"m2\",data=tsne_data)\n",
        "plt.show()"
      ],
      "metadata": {
        "id": "i3ijNBGWsD5D"
      },
      "execution_count": null,
      "outputs": []
    },
    {
      "cell_type": "markdown",
      "source": [
        "Тут разделение пошло по границе наименьшего \"соприкосновения\" 2 облаков точек. Хорошо это или нет, сказать пока сложно. Взглянем на последний метод:"
      ],
      "metadata": {
        "id": "tz0s_k5-f1P-"
      }
    },
    {
      "cell_type": "code",
      "source": [
        "# Silhouette\n",
        "from yellowbrick.cluster import KElbowVisualizer\n",
        "model = KMeans()\n",
        "visualizer = KElbowVisualizer(model, k=(2,16),metric='silhouette', timings= True)\n",
        "visualizer.fit(t_X)\n",
        "visualizer.show()"
      ],
      "metadata": {
        "id": "bOUvklkfmoGa"
      },
      "execution_count": null,
      "outputs": []
    },
    {
      "cell_type": "markdown",
      "source": [
        "И этот метод \"рекомендует\" выбрать только 2 кластера.\n",
        "\n",
        "У авторов статьи число кластеров получилось больше двух. Но они руководствовались лишь одним методом. В нашем же случае из 3-х проверенных методов 2 \"говорят\" в пользу выбора только 2 кластеров. Нам следует так и сделать... это более надежный подход.\n",
        "\n",
        "Теперь в заключение следует вывести исходный график SPX (данные по Close) с подсветкой двух кластеров:"
      ],
      "metadata": {
        "id": "mkm0vLlTgFsR"
      }
    },
    {
      "cell_type": "code",
      "source": [
        "fig = go.Figure(data=go.Scatter(x=SPX.index,y=SPX.Close, \n",
        "                                mode=\"markers\",\n",
        "                                marker_color=m2.labels_))\n",
        "fig.update_layout(autosize=False,width=800,height=500)\n",
        "fig.show()"
      ],
      "metadata": {
        "id": "cOBRnJSQm-XM"
      },
      "execution_count": null,
      "outputs": []
    },
    {
      "cell_type": "markdown",
      "source": [
        "Вот такой график получился. Да, похоже на то что сильным медвежьим трендам более соответствуют последовательности \"синих\" кластеров, а \"желтые\" говорят о равномерном движении.\n",
        "\n",
        "Если же \"подсветить\" кластеры, что были найдены первым методом (их 5), то получим вот что:"
      ],
      "metadata": {
        "id": "IMKtZRQghACs"
      }
    },
    {
      "cell_type": "code",
      "source": [
        "fig = go.Figure(data=go.Scatter(x=SPX.index,y=SPX.Close, \n",
        "                                mode=\"markers\",\n",
        "                                marker_color=m1.labels_))\n",
        "fig.update_layout(autosize=False,width=800,height=500)\n",
        "fig.show()"
      ],
      "metadata": {
        "id": "z6HPFKAutApi"
      },
      "execution_count": null,
      "outputs": []
    },
    {
      "cell_type": "markdown",
      "source": [
        "Здесь явно прослеживаются \"ораньжевые\" кластеры.\n",
        "\n",
        "Все это можно интерпретировать как нам угодно, но нужно не уйти в сторону и не \"выдавать желаемое за действительное\".\n",
        "\n",
        "**2. Кластеризация по данным tSNE.**"
      ],
      "metadata": {
        "id": "S1RneI0HhgQY"
      }
    },
    {
      "cell_type": "code",
      "source": [
        "# Elbow метод для K-Means\n",
        "model = KMeans()\n",
        "# k - диапазон возможных кластеров\n",
        "visualizer = KElbowVisualizer(model, k=(2,16), timings= True)\n",
        "visualizer.fit(tsne_data.iloc[:,:2])\n",
        "# визуализация\n",
        "plt.show()\n",
        "visualizer.show()"
      ],
      "metadata": {
        "id": "g_0fkyrItuM2"
      },
      "execution_count": null,
      "outputs": []
    },
    {
      "cell_type": "markdown",
      "source": [
        "Все теже 5 кластеров! Визуализация:"
      ],
      "metadata": {
        "id": "frPvryE-idbb"
      }
    },
    {
      "cell_type": "code",
      "source": [
        "m3 = KMeans(n_clusters=5).fit(tsne_data.iloc[:,:2])\n",
        "tsne_data['m3'] = pd.Categorical(m3.labels_) # добавим метки кластеров в данные tsne\n",
        "sns.scatterplot(x=\"PC1\",y=\"PC2\",hue=\"m3\",data=tsne_data)\n",
        "plt.show()"
      ],
      "metadata": {
        "id": "Pq8fUIuJh9UI"
      },
      "execution_count": null,
      "outputs": []
    },
    {
      "cell_type": "markdown",
      "source": [
        "Сейчас красивее и четче видны \"облака\" точек.\n",
        "\n",
        "Второй метод:"
      ],
      "metadata": {
        "id": "MVxAvy9Cik-c"
      }
    },
    {
      "cell_type": "code",
      "source": [
        "# Calinski Harabasz метод\n",
        "from yellowbrick.cluster import KElbowVisualizer\n",
        "model = KMeans()\n",
        "visualizer = KElbowVisualizer(model, k=(2,16),metric='calinski_harabasz', timings= True)\n",
        "visualizer.fit(tsne_data.iloc[:,:2])\n",
        "visualizer.show()"
      ],
      "metadata": {
        "id": "kyMNXCm1iB8C"
      },
      "execution_count": null,
      "outputs": []
    },
    {
      "cell_type": "markdown",
      "source": [
        "А тут метод \"предпочел\" выбрать 6 кластеров!\n",
        "\n",
        "Визуализируем:"
      ],
      "metadata": {
        "id": "hPcXbG76i1Gx"
      }
    },
    {
      "cell_type": "code",
      "source": [
        "m3 = KMeans(n_clusters=6).fit(tsne_data.iloc[:,:2])\n",
        "tsne_data['m4'] = pd.Categorical(m3.labels_) # добавим метки кластеров в данные tsne\n",
        "sns.scatterplot(x=\"PC1\",y=\"PC2\",hue=\"m4\",data=tsne_data)\n",
        "plt.show()"
      ],
      "metadata": {
        "id": "AOWxpvmzizKP"
      },
      "execution_count": null,
      "outputs": []
    },
    {
      "cell_type": "markdown",
      "source": [
        "Выглядит вполне себе неплохо. И првоерим последний метод:"
      ],
      "metadata": {
        "id": "rJCyRniQjFYv"
      }
    },
    {
      "cell_type": "code",
      "source": [
        "# Silhouette\n",
        "from yellowbrick.cluster import KElbowVisualizer\n",
        "model = KMeans()\n",
        "visualizer = KElbowVisualizer(model, k=(2,16),metric='silhouette', timings= True)\n",
        "visualizer.fit(tsne_data.iloc[:,:2])\n",
        "visualizer.show()"
      ],
      "metadata": {
        "id": "o2l6jn56i0Io"
      },
      "execution_count": null,
      "outputs": []
    },
    {
      "cell_type": "markdown",
      "source": [
        "А этот метод предлагает выбрать только 3 группы! Визуализируем их:"
      ],
      "metadata": {
        "id": "IaBWJh87jYHQ"
      }
    },
    {
      "cell_type": "code",
      "source": [
        "m5 = KMeans(n_clusters=3).fit(tsne_data.iloc[:,:2])\n",
        "tsne_data['m5'] = pd.Categorical(m5.labels_) # добавим метки кластеров в данные tsne\n",
        "sns.scatterplot(x=\"PC1\",y=\"PC2\",hue=\"m5\",data=tsne_data)\n",
        "plt.show()"
      ],
      "metadata": {
        "id": "rfW6wrD1i0P6"
      },
      "execution_count": null,
      "outputs": []
    },
    {
      "cell_type": "markdown",
      "source": [
        "Тут выбрать сложно, поэтому посмотрим на реальный график цены SPX со всеми обозначенными кластерами кластерами для каждого из 3-х методов поиска оптимального числа кластеров:"
      ],
      "metadata": {
        "id": "ngGbA0agjxTj"
      }
    },
    {
      "cell_type": "code",
      "source": [
        "fig = go.Figure(data=go.Scatter(x=SPX.index,y=SPX.Close, \n",
        "                                mode=\"markers\",\n",
        "                                marker_color=m3.labels_))\n",
        "fig.update_layout(autosize=False,width=800,height=500)\n",
        "fig.show()"
      ],
      "metadata": {
        "id": "bbrNdfAfj5c2"
      },
      "execution_count": null,
      "outputs": []
    },
    {
      "cell_type": "code",
      "source": [
        "fig = go.Figure(data=go.Scatter(x=SPX.index,y=SPX.Close, \n",
        "                                mode=\"markers\",\n",
        "                                marker_color=m4.labels_))\n",
        "fig.update_layout(autosize=False,width=800,height=500)\n",
        "fig.show()"
      ],
      "metadata": {
        "id": "Nc5jiFXnkKfn"
      },
      "execution_count": null,
      "outputs": []
    },
    {
      "cell_type": "code",
      "source": [
        "fig = go.Figure(data=go.Scatter(x=SPX.index,y=SPX.Close, \n",
        "                                mode=\"markers\",\n",
        "                                marker_color=m5.labels_))\n",
        "fig.update_layout(autosize=False,width=800,height=500)\n",
        "fig.show()"
      ],
      "metadata": {
        "id": "aRcl08qekNxa"
      },
      "execution_count": null,
      "outputs": []
    },
    {
      "cell_type": "markdown",
      "source": [
        "Самый первый график интереснее. Нисходящие тенденции более оранжево-красные, а восходящие розово-синии.\n",
        "\n",
        "**Рекомендации**\n",
        "\n",
        "Не смотря на то, что было проверено несколько методов поиска оптимального числа кластеров по 5 показателям и по их проекции в 2D плоскость методом tSNE существенных результатов, которые бы были видны визуально не видно. Не вижно это явно и в статье авторов (у них признаки не нормируются). Скорее можно говорить о некоторых незначительных закономерностях которые \"подсвечиваются\" метками кластеров.\n",
        "\n",
        "Как альтернативу работе, можно попробовать проводить кластеризацию рыночных паттернов, то есть последовательностей рыночных цен, например, взяв их понедельно. Сюда также можно добавить технические индикаторы для \"большей\" информативности.\n",
        "\n",
        "Но и в том и в другом можно построить модель классификации будущего значения рынка (то есть модель, которая бы прогнозировала кластер к которому будет принадлежать будущее значение или паттерн).\n",
        "\n"
      ],
      "metadata": {
        "id": "EEe6RQ7djXWl"
      }
    },
    {
      "cell_type": "code",
      "source": [
        ""
      ],
      "metadata": {
        "id": "M2E7gCk_l5LG"
      },
      "execution_count": null,
      "outputs": []
    }
  ]
}